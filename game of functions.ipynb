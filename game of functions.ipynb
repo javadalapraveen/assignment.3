{
 "cells": [
  {
   "cell_type": "code",
   "execution_count": 9,
   "metadata": {},
   "outputs": [
    {
     "name": "stdout",
     "output_type": "stream",
     "text": [
      "20\n"
     ]
    }
   ],
   "source": [
    "def sum_list(nums):\n",
    "  sum = 0\n",
    "\n",
    "  for num in nums:\n",
    "    sum += num\n",
    "\n",
    "  return sum\n",
    "\n",
    "nums = input(\"Enter a list of numbers seperated by comma: \")\n",
    "\n",
    "nums = list(map(int, nums.split()))\n",
    "sum = sum_list(nums)\n",
    "\n",
    "print(sum)"
   ]
  }
 ],
 "metadata": {
  "kernelspec": {
   "display_name": "Python 3",
   "language": "python",
   "name": "python3"
  },
  "language_info": {
   "codemirror_mode": {
    "name": "ipython",
    "version": 3
   },
   "file_extension": ".py",
   "mimetype": "text/x-python",
   "name": "python",
   "nbconvert_exporter": "python",
   "pygments_lexer": "ipython3",
   "version": "3.11.4"
  },
  "orig_nbformat": 4
 },
 "nbformat": 4,
 "nbformat_minor": 2
}
