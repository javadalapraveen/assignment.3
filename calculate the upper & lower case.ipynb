{
 "cells": [
  {
   "cell_type": "code",
   "execution_count": 1,
   "metadata": {},
   "outputs": [
    {
     "name": "stdout",
     "output_type": "stream",
     "text": [
      "Upper case letters: 3\n",
      "Lower case letters: 12\n"
     ]
    }
   ],
   "source": [
    "def count_letters(string):\n",
    "\n",
    "  upper_count = 0\n",
    "  lower_count = 0\n",
    "\n",
    "  for letter in string:\n",
    "    if letter.isupper():\n",
    "      upper_count += 1\n",
    "    elif letter.islower():\n",
    "      lower_count += 1\n",
    "\n",
    "  return (upper_count, lower_count)\n",
    "\n",
    "string = input(\"Enter a string: \")\n",
    "\n",
    "counts = count_letters(string)\n",
    "\n",
    "print(\"Upper case letters:\", counts[0])\n",
    "print(\"Lower case letters:\", counts[1])"
   ]
  }
 ],
 "metadata": {
  "kernelspec": {
   "display_name": "Python 3",
   "language": "python",
   "name": "python3"
  },
  "language_info": {
   "codemirror_mode": {
    "name": "ipython",
    "version": 3
   },
   "file_extension": ".py",
   "mimetype": "text/x-python",
   "name": "python",
   "nbconvert_exporter": "python",
   "pygments_lexer": "ipython3",
   "version": "3.11.4"
  },
  "orig_nbformat": 4
 },
 "nbformat": 4,
 "nbformat_minor": 2
}
